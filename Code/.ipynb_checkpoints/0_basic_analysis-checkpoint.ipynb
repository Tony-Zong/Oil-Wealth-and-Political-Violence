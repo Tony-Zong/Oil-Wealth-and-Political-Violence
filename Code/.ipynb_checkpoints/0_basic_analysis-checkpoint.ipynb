{
 "cells": [
  {
   "cell_type": "code",
   "execution_count": 1,
   "metadata": {},
   "outputs": [],
   "source": [
    "import numpy as np\n",
    "import pandas as pd\n",
    "# import matplotlib.pyplot as plt\n",
    "# from sklearn.linear_model import LogisticRegression, LinearRegression\n",
    "# from scipy.special import expit"
   ]
  },
  {
   "cell_type": "code",
   "execution_count": null,
   "metadata": {},
   "outputs": [],
   "source": [
    "df = pd.read_stata('/Users/zwanran/Desktop/STAT27420/Final/STAT27420-final-code/Data/data/Comprehensive-Sample.dta')\n",
    "# prepare for fist part regression\n",
    "varlist = ['onsetUCS', 'onset2COWCS', 'logvaloilres', 'logGDP_M', 'ecgrowth', 'logpop_M', 'logpopdens', \n",
    "           'democracy', 'logmountain', 'ethnic_fractionalization', 'religion_fractionalization', \n",
    "           'language_fractionalization', 'leg_british', 'year', 'code3', 'numcode']\n",
    "# cleansing\n",
    "df = df.dropna(axis = 0, how ='any', subset=varlist)\n",
    "# df_disc = pd.read_stata('ASPO-Sample.dta')"
   ]
  },
  {
   "cell_type": "markdown",
   "metadata": {},
   "source": [
    "Plan to replicate Table 2 with ML:\n",
    "1. Replicate Probit, Pooled OLS, FE OLS on COW dataset\n",
    "2. Replicate Pooled OLS, FE OLS on UCPD/PRIO dataset\n",
    "   1. on democratic subsample\n",
    "   2. on non-democratic subsample"
   ]
  },
  {
   "cell_type": "code",
   "execution_count": null,
   "metadata": {},
   "outputs": [],
   "source": [
    "# split dataset by country\n",
    "df['oilreserves_mean'] = df.groupby(['numcode'])['oilreserves'].transform('mean')\n",
    "df['nooil'] = (df['oilreserves_mean']==0)\n",
    "df_nooil = df[df['nooil']==True].copy()\n",
    "\n",
    "df_oil = df[df['nooil']==False].copy()\n",
    "df_oil['logvaloilres_mean'] = df_oil.groupby(['numcode'])['logvaloilres'].transform('mean')\n",
    "logvaloilres_mean_quantile = np.quantile(df_oil['logvaloilres_mean'], [1/3, 2/3])\n",
    "\n",
    "df_oil['smalloil'] = (df_oil['logvaloilres_mean']<=logvaloilres_mean_quantile[0])\n",
    "df_smalloil = df_oil[df_oil['smalloil']==True].copy()\n",
    "\n",
    "df_oil['bigoil'] = (df_oil['logvaloilres_mean']>=logvaloilres_mean_quantile[1])\n",
    "df_bigoil = df_oil[df_oil['bigoil']==True].copy()"
   ]
  },
  {
   "cell_type": "code",
   "execution_count": null,
   "metadata": {},
   "outputs": [],
   "source": [
    "# binarize treatment\n",
    "logvaloilres_quantile = np.quantile(df['logvaloilres'], [1/3, 2/3])\n",
    "df['bin_logvaloilres'] = np.where((df['logvaloilres']>=logvaloilres_quantile[1]), 1, np.nan)\n",
    "df['bin_logvaloilres'] = np.where((df['logvaloilres']<=logvaloilres_quantile[0]), 0, df['bin_logvaloilres'])\n",
    "df = df.dropna(axis = 0, how ='any', subset=['bin_logvaloilres'])"
   ]
  },
  {
   "cell_type": "code",
   "execution_count": null,
   "metadata": {},
   "outputs": [
    {
     "data": {
      "text/plain": [
       "array([1., 0.])"
      ]
     },
     "execution_count": 56,
     "metadata": {},
     "output_type": "execute_result"
    }
   ],
   "source": [
    "# ---- logistic function ----\n",
    "## reference: https://scikit-learn.org/stable/auto_examples/linear_model/plot_logistic.html#sphx-glr-auto-examples-linear-model-plot-logistic-py\n",
    "## treat year and country just as covariates first\n"
   ]
  },
  {
   "cell_type": "code",
   "execution_count": null,
   "metadata": {},
   "outputs": [
    {
     "data": {
      "text/plain": [
       "array([nan, nan])"
      ]
     },
     "execution_count": 6,
     "metadata": {},
     "output_type": "execute_result"
    }
   ],
   "source": []
  }
 ],
 "metadata": {
  "kernelspec": {
   "display_name": "Python 3 (ipykernel)",
   "language": "python",
   "name": "python3"
  },
  "language_info": {
   "codemirror_mode": {
    "name": "ipython",
    "version": 3
   },
   "file_extension": ".py",
   "mimetype": "text/x-python",
   "name": "python",
   "nbconvert_exporter": "python",
   "pygments_lexer": "ipython3",
   "version": "3.9.7"
  },
  "vscode": {
   "interpreter": {
    "hash": "aee8b7b246df8f9039afb4144a1f6fd8d2ca17a180786b69acc140d282b71a49"
   }
  }
 },
 "nbformat": 4,
 "nbformat_minor": 2
}
