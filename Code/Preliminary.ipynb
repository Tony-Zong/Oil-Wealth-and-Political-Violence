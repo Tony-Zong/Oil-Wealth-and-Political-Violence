{
 "cells": [
  {
   "cell_type": "code",
   "execution_count": 38,
   "metadata": {},
   "outputs": [],
   "source": [
    "import pandas as pd\n",
    "from scipy.stats import ttest_ind"
   ]
  },
  {
   "cell_type": "code",
   "execution_count": 3,
   "metadata": {},
   "outputs": [],
   "source": [
    "# set random seed for numpy\n",
    "RANDOM_SEED=42\n",
    "np.random.seed(RANDOM_SEED)"
   ]
  },
  {
   "cell_type": "code",
   "execution_count": 5,
   "metadata": {},
   "outputs": [],
   "source": [
    "# read in the dataframe\n",
    "oil_df = pd.read_pickle('../Data/data/comprehensive_new_full.pkl')"
   ]
  },
  {
   "cell_type": "code",
   "execution_count": 74,
   "metadata": {},
   "outputs": [
    {
     "name": "stdout",
     "output_type": "stream",
     "text": [
      "Ttest_indResult(statistic=0.1256760708200466, pvalue=0.9000124882650161)\n",
      "Ttest_indResult(statistic=-0.8158667786352904, pvalue=0.4147602223372939)\n",
      "Ttest_indResult(statistic=-3.7626938810395743, pvalue=0.00018441602908429367)\n",
      "Ttest_indResult(statistic=1.1518785851809294, pvalue=0.2504108772703432)\n"
     ]
    }
   ],
   "source": [
    "outcome_lst = ['onset2COWCS',\n",
    "               'coup',\n",
    "               'periregular',\n",
    "               'milexp_pergdpSIPRI_diff']\n",
    "sample1 = oil_df[oil_df['valoilres_binarize']==1]\n",
    "sample2 = oil_df[oil_df['valoilres_binarize']==0]\n",
    "for var in outcome_lst:\n",
    "    if var == 'milexp_pergdpSIPRI_diff':\n",
    "        print(ttest_ind(sample1['milexp_pergdpSIPRI_diff'].dropna(), sample2['milexp_pergdpSIPRI_diff'].dropna(), equal_var = False))\n",
    "    else:\n",
    "        print(ttest_ind(sample1[var].iloc[:,0].dropna(), sample2[var].iloc[:,0].dropna(), equal_var = False))\n"
   ]
  },
  {
   "cell_type": "code",
   "execution_count": 75,
   "metadata": {},
   "outputs": [
    {
     "name": "stdout",
     "output_type": "stream",
     "text": [
      "Ttest_indResult(statistic=0.8827710463140196, pvalue=0.3774405850484187)\n",
      "Ttest_indResult(statistic=1.3275509236293785, pvalue=0.18444246603639292)\n",
      "Ttest_indResult(statistic=4.050453794593157, pvalue=5.27107566955744e-05)\n",
      "Ttest_indResult(statistic=4.53795495328013, pvalue=5.978030465269456e-06)\n",
      "Ttest_indResult(statistic=0.9768034737548446, pvalue=0.32873803275533864)\n",
      "Ttest_indResult(statistic=-4.755020131389034, pvalue=2.106551235650089e-06)\n",
      "Ttest_indResult(statistic=0.6004886201033012, pvalue=0.5482650630169856)\n"
     ]
    }
   ],
   "source": [
    "outcome_lst = ['d2incidenceU',\n",
    "               'd3_6incidenceU',\n",
    "               'onset2COWCS',\n",
    "               'onsetUCS',\n",
    "               'coup',\n",
    "               'periregular',\n",
    "               'milexp_pergdpSIPRI_diff']\n",
    "sample1 = oil_df[oil_df['newdiscovery_aspo_binarize']==1]\n",
    "sample2 = oil_df[oil_df['newdiscovery_aspo_binarize']==0]\n",
    "for var in outcome_lst:\n",
    "    if var == 'milexp_pergdpSIPRI_diff':\n",
    "        print(ttest_ind(sample1['milexp_pergdpSIPRI_diff'].dropna(), sample2['milexp_pergdpSIPRI_diff'].dropna(), equal_var = False))\n",
    "    else:\n",
    "        print(ttest_ind(sample1[var].iloc[:,0].dropna(), sample2[var].iloc[:,0].dropna(), equal_var = False))"
   ]
  },
  {
   "cell_type": "code",
   "execution_count": 77,
   "metadata": {},
   "outputs": [
    {
     "data": {
      "text/plain": [
       "Text(0, 0.5, 'Frequency')"
      ]
     },
     "execution_count": 77,
     "metadata": {},
     "output_type": "execute_result"
    },
    {
     "data": {
      "image/png": "[encoded data removed]",
      "text/plain": [
       "<Figure size 504x360 with 1 Axes>"
      ]
     },
     "metadata": {
      "needs_background": "light"
     },
     "output_type": "display_data"
    }
   ],
   "source": [
    "plt.figure(figsize=(7, 5))\n",
    "oil_df.onset2COWCS.iloc[:,0].plot.density(color='blue')\n",
    "plt.title('Distribution of War Onsets', fontsize=16)\n",
    "plt.xlabel('War Onset', fontsize=15)\n",
    "plt.ylabel('Frequency', fontsize=15)\n",
    "# plt.vlines(x = math.log(0.1+2), ymin = 0, ymax = 3.5, colors = 'green', label = 'Binarization Cutoff: 10% relative increase') "
   ]
  },
  {
   "cell_type": "code",
   "execution_count": 34,
   "metadata": {},
   "outputs": [
    {
     "ename": "AttributeError",
     "evalue": "module 'matplotlib.pyplot' has no attribute 'density'",
     "output_type": "error",
     "traceback": [
      "\u001b[0;31m---------------------------------------------------------------------------\u001b[0m",
      "\u001b[0;31mAttributeError\u001b[0m                            Traceback (most recent call last)",
      "\u001b[0;32m/var/folders/94/nn3d0lmn507c2wj_g3d8p2kc0000gn/T/ipykernel_85069/50482181.py\u001b[0m in \u001b[0;36m<module>\u001b[0;34m\u001b[0m\n\u001b[1;32m      2\u001b[0m \u001b[0;34m\u001b[0m\u001b[0m\n\u001b[1;32m      3\u001b[0m \u001b[0mplt\u001b[0m\u001b[0;34m.\u001b[0m\u001b[0mfigure\u001b[0m\u001b[0;34m(\u001b[0m\u001b[0mfigsize\u001b[0m\u001b[0;34m=\u001b[0m\u001b[0;34m(\u001b[0m\u001b[0;36m7\u001b[0m\u001b[0;34m,\u001b[0m \u001b[0;36m5\u001b[0m\u001b[0;34m)\u001b[0m\u001b[0;34m)\u001b[0m\u001b[0;34m\u001b[0m\u001b[0;34m\u001b[0m\u001b[0m\n\u001b[0;32m----> 4\u001b[0;31m \u001b[0mplt\u001b[0m\u001b[0;34m.\u001b[0m\u001b[0mdensity\u001b[0m\u001b[0;34m(\u001b[0m\u001b[0mwin_data\u001b[0m\u001b[0;34m)\u001b[0m\u001b[0;34m\u001b[0m\u001b[0;34m\u001b[0m\u001b[0m\n\u001b[0m\u001b[1;32m      5\u001b[0m \u001b[0mplt\u001b[0m\u001b[0;34m.\u001b[0m\u001b[0mtitle\u001b[0m\u001b[0;34m(\u001b[0m\u001b[0;34m'Distribution of Log (Relative Change in Value of Oil Reserves + 2)'\u001b[0m\u001b[0;34m,\u001b[0m \u001b[0mfontsize\u001b[0m\u001b[0;34m=\u001b[0m\u001b[0;36m16\u001b[0m\u001b[0;34m)\u001b[0m\u001b[0;34m\u001b[0m\u001b[0;34m\u001b[0m\u001b[0m\n\u001b[1;32m      6\u001b[0m \u001b[0mplt\u001b[0m\u001b[0;34m.\u001b[0m\u001b[0mxlabel\u001b[0m\u001b[0;34m(\u001b[0m\u001b[0;34m'Oil Reserves'\u001b[0m\u001b[0;34m,\u001b[0m \u001b[0mfontsize\u001b[0m\u001b[0;34m=\u001b[0m\u001b[0;36m15\u001b[0m\u001b[0;34m)\u001b[0m\u001b[0;34m\u001b[0m\u001b[0;34m\u001b[0m\u001b[0m\n",
      "\u001b[0;31mAttributeError\u001b[0m: module 'matplotlib.pyplot' has no attribute 'density'"
     ]
    },
    {
     "data": {
      "text/plain": [
       "<Figure size 504x360 with 0 Axes>"
      ]
     },
     "metadata": {},
     "output_type": "display_data"
    }
   ],
   "source": [
    "win_data = winsorize(data)\n",
    "\n",
    "plt.figure(figsize=(7, 5))\n",
    "plt.density(win_data)\n",
    "plt.title('Distribution of Log (Relative Change in Value of Oil Reserves + 2)', fontsize=16)\n",
    "plt.xlabel('Oil Reserves', fontsize=15)\n",
    "plt.ylabel('Frequency', fontsize=15)\n",
    "plt.vlines(x = 0.1, ymin = 0, ymax = 3.5, colors = 'green', label = 'Binarization Cutoff: 10% relative increase') "
   ]
  },
  {
   "cell_type": "code",
   "execution_count": 32,
   "metadata": {},
   "outputs": [
    {
     "data": {
      "text/plain": [
       "masked_array(data=[nan, nan, nan, ...,  0.,  0.,  0.],\n",
       "             mask=False,\n",
       "       fill_value=1e+20,\n",
       "            dtype=float32)"
      ]
     },
     "execution_count": 32,
     "metadata": {},
     "output_type": "execute_result"
    }
   ],
   "source": [
    "win_data"
   ]
  }
 ],
 "metadata": {
  "kernelspec": {
   "display_name": "base",
   "language": "python",
   "name": "python3"
  },
  "language_info": {
   "codemirror_mode": {
    "name": "ipython",
    "version": 3
   },
   "file_extension": ".py",
   "mimetype": "text/x-python",
   "name": "python",
   "nbconvert_exporter": "python",
   "pygments_lexer": "ipython3",
   "version": "3.9.7"
  },
  "orig_nbformat": 4,
  "vscode": {
   "interpreter": {
    "hash": "ca914ef3443b27a334a37bf7223f6ef0ecc5cb6923414685890fcb7a9018ffa6"
   }
  }
 },
 "nbformat": 4,
 "nbformat_minor": 2
}
