{
 "cells": [
  {
   "cell_type": "code",
   "execution_count": 11,
   "id": "e20f2a6d",
   "metadata": {},
   "outputs": [],
   "source": [
    "import pandas as pd\n",
    "import pickle as pkl"
   ]
  },
  {
   "cell_type": "code",
   "execution_count": 12,
   "id": "4c017c41",
   "metadata": {},
   "outputs": [],
   "source": [
    "with open(\"/Users/zwanran/Desktop/STAT27420/Final/STAT27420-final-code/Data/data/comprehensive_new_full.pkl\", \"rb\") as f:\n",
    "    object = pkl.load(f)\n",
    "    \n",
    "df = pd.DataFrame(object)\n",
    "df.to_csv(r'/Users/zwanran/Desktop/STAT27420/Final/STAT27420-final-code/Data/data/comprehensive_new_full.csv')\n",
    "df.to_stata(r'/Users/zwanran/Desktop/STAT27420/Final/STAT27420-final-code/Data/data/comprehensive_new_full.dta')"
   ]
  },
  {
   "cell_type": "code",
   "execution_count": 13,
   "id": "e3a4083f",
   "metadata": {},
   "outputs": [],
   "source": [
    "with open(\"/Users/zwanran/Desktop/STAT27420/Final/STAT27420-final-code/Data/data/aspo_full.pkl\", \"rb\") as f:\n",
    "    object = pkl.load(f)\n",
    "    \n",
    "df = pd.DataFrame(object)\n",
    "df = df.loc[:,~df.columns.duplicated()].copy()\n",
    "# df.drop(df.columns[[118,119]], axis = 1,inplace = True)\n",
    "# df.drop(df.columns[[119,120]], axis = 1, inplace = True)\n",
    "df.to_csv(r'/Users/zwanran/Desktop/STAT27420/Final/STAT27420-final-code/Data/data/aspo_full.csv')\n",
    "df.to_stata(r'/Users/zwanran/Desktop/STAT27420/Final/STAT27420-final-code/Data/data/aspo_full.dta')\n",
    "# df.columns[[119,120]]"
   ]
  },
  {
   "cell_type": "code",
   "execution_count": null,
   "id": "4b3f09db",
   "metadata": {},
   "outputs": [],
   "source": []
  }
 ],
 "metadata": {
  "kernelspec": {
   "display_name": "Python 3 (ipykernel)",
   "language": "python",
   "name": "python3"
  },
  "language_info": {
   "codemirror_mode": {
    "name": "ipython",
    "version": 3
   },
   "file_extension": ".py",
   "mimetype": "text/x-python",
   "name": "python",
   "nbconvert_exporter": "python",
   "pygments_lexer": "ipython3",
   "version": "3.9.7"
  }
 },
 "nbformat": 4,
 "nbformat_minor": 5
}
