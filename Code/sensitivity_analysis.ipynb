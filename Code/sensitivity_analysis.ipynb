{
 "cells": [
  {
   "cell_type": "code",
   "execution_count": 1,
   "metadata": {},
   "outputs": [],
   "source": [
    "import numpy as np\n",
    "import pandas as pd\n",
    "import scipy as sp\n",
    "from sklearn.ensemble import RandomForestClassifier, RandomForestRegressor\n",
    "from sklearn.linear_model import LinearRegression\n",
    "from sklearn.model_selection import KFold, StratifiedKFold, train_test_split\n",
    "from sklearn.metrics import mean_squared_error, log_loss\n",
    "from sklearn import preprocessing\n",
    "import sklearn\n",
    "import os\n",
    "from matplotlib.pyplot import hist\n",
    "from scipy import stats\n",
    "from xgboost import XGBClassifier\n",
    "from xgboost import XGBRegressor\n",
    "import pathlib\n",
    "\n",
    "from austen_plots.AustenPlot import AustenPlot"
   ]
  },
  {
   "cell_type": "code",
   "execution_count": 2,
   "metadata": {},
   "outputs": [],
   "source": [
    "# set random seed for numpy\n",
    "RANDOM_SEED=42\n",
    "np.random.seed(RANDOM_SEED)"
   ]
  },
  {
   "cell_type": "code",
   "execution_count": 3,
   "metadata": {},
   "outputs": [],
   "source": [
    "# read in the dataframe\n",
    "oil_df = pd.read_pickle('../Data/data/comprehensive_new_full.pkl')"
   ]
  },
  {
   "cell_type": "code",
   "execution_count": 4,
   "metadata": {},
   "outputs": [],
   "source": [
    "def att_aiptw(Q0, Q1, g, A, Y, prob_t=None):\n",
    "    \"\"\"\n",
    "    Double ML estimator for the ATT\n",
    "    This uses the ATT specific scores, see equation 3.9 of https://www.econstor.eu/bitstream/10419/149795/1/869216953.pdf\n",
    "    Return: aiptw of ATE and its standard error\n",
    "    \"\"\"\n",
    "    \n",
    "    # number of observations\n",
    "    n = Y.shape[0]\n",
    "    \n",
    "    # estimate marginal probability of treatment\n",
    "    if prob_t is None:\n",
    "        prob_t = A.mean() \n",
    "    \n",
    "    # att aiptw\n",
    "    tau_hat = (A*(Y-Q0) - (1-A)*(g/(1-g))*(Y-Q0)).mean()/ prob_t\n",
    "  \n",
    "    # influence curve and standard error of aiptw\n",
    "    phi = (A*(Y-Q0) - (1-A)*(g/(1-g))*(Y-Q0) - tau_hat*A) / prob_t\n",
    "    std_hat = np.std(phi) / np.sqrt(n)\n",
    "\n",
    "    return tau_hat, std_hat"
   ]
  },
  {
   "cell_type": "code",
   "execution_count": 5,
   "metadata": {},
   "outputs": [],
   "source": [
    "def make_xgboost_g_model():\n",
    "    return XGBClassifier(n_estimators=50, max_depth=3)\n",
    "\n",
    "def make_xgboost_Q_model():\n",
    "    return XGBClassifier(random_state=RANDOM_SEED, n_estimators=500, max_depth=None)"
   ]
  },
  {
   "cell_type": "code",
   "execution_count": 6,
   "metadata": {},
   "outputs": [],
   "source": [
    "# helper functions to implement the cross fitting\n",
    "\n",
    "def treatment_k_fold_fit_and_predict(make_model, X:pd.DataFrame, A:np.array, n_splits:int):\n",
    "    \"\"\"\n",
    "    Implements K fold cross-fitting for the model predicting the treatment A. \n",
    "    That is, \n",
    "    1. Split data into K folds\n",
    "    2. For each fold j, the model is fit on the other K-1 folds\n",
    "    3. The fitted model is used to make predictions for each data point in fold j\n",
    "    Returns an array containing the predictions  \n",
    "\n",
    "    Args:\n",
    "    model: function that returns sklearn model (which implements fit and predict_prob)\n",
    "    X: dataframe of variables to adjust for\n",
    "    A: array of treatments\n",
    "    n_splits: number of splits to use\n",
    "    \"\"\"\n",
    "    predictions = np.full_like(A, np.nan, dtype=float)\n",
    "    kf = StratifiedKFold(n_splits=n_splits, shuffle=True, random_state=RANDOM_SEED)\n",
    "    \n",
    "    for train_index, test_index in kf.split(X, A):\n",
    "      X_train = X.loc[train_index]\n",
    "      A_train = A.loc[train_index]\n",
    "      g = make_model()\n",
    "      g.fit(X_train, A_train)\n",
    "\n",
    "      # get predictions for split\n",
    "      predictions[test_index] = g.predict_proba(X.loc[test_index])[:, 1]\n",
    "\n",
    "    assert np.isnan(predictions).sum() == 0\n",
    "    return predictions\n",
    "\n",
    "\n",
    "def outcome_k_fold_fit_and_predict(make_model, X:pd.DataFrame, y:np.array, A:np.array, n_splits:int, output_type:str):\n",
    "    \"\"\"\n",
    "    Implements K fold cross-fitting for the model predicting the outcome Y. \n",
    "    That is, \n",
    "    1. Split data into K folds\n",
    "    2. For each fold j, the model is fit on the other K-1 folds\n",
    "    3. The fitted model is used to make predictions for each data point in fold j\n",
    "    Returns two arrays containing the predictions for all units untreated, all units treated  \n",
    "\n",
    "    Args:\n",
    "    model: function that returns sklearn model (that implements fit and either predict_prob or predict)\n",
    "    X: dataframe of variables to adjust for\n",
    "    y: array of outcomes\n",
    "    A: array of treatments\n",
    "    n_splits: number of splits to use\n",
    "    output_type: type of outcome, \"binary\" or \"continuous\"\n",
    "\n",
    "    \"\"\"\n",
    "    predictions0 = np.full_like(A, np.nan, dtype=float)\n",
    "    predictions1 = np.full_like(y, np.nan, dtype=float)\n",
    "    if output_type == 'binary':\n",
    "      kf = StratifiedKFold(n_splits=n_splits, shuffle=True, random_state=RANDOM_SEED)\n",
    "    elif output_type == 'continuous':\n",
    "      kf = KFold(n_splits=n_splits, shuffle=True, random_state=RANDOM_SEED)\n",
    "\n",
    "    # include the treatment as input feature\n",
    "    X_w_treatment = X.copy()\n",
    "    X_w_treatment[\"A\"] = A\n",
    "\n",
    "    # for predicting effect under treatment / control status for each data point \n",
    "    X0 = X_w_treatment.copy()\n",
    "    X0[\"A\"] = 0\n",
    "    X1 = X_w_treatment.copy()\n",
    "    X1[\"A\"] = 1\n",
    "\n",
    "    \n",
    "    for train_index, test_index in kf.split(X_w_treatment, y):\n",
    "      X_train = X_w_treatment.loc[train_index]\n",
    "      y_train = y.loc[train_index]\n",
    "      q = make_model()\n",
    "      q.fit(X_train, y_train)\n",
    "\n",
    "      if output_type =='binary':\n",
    "        predictions0[test_index] = q.predict_proba(X0.loc[test_index])[:, 1]\n",
    "        predictions1[test_index] = q.predict_proba(X1.loc[test_index])[:, 1]\n",
    "      elif output_type == 'continuous':\n",
    "        predictions0[test_index] = q.predict(X0.loc[test_index])\n",
    "        predictions1[test_index] = q.predict(X1.loc[test_index])\n",
    "\n",
    "    assert np.isnan(predictions0).sum() == 0\n",
    "    assert np.isnan(predictions1).sum() == 0\n",
    "    return predictions0, predictions1"
   ]
  },
  {
   "cell_type": "code",
   "execution_count": 7,
   "metadata": {},
   "outputs": [],
   "source": [
    "outcome = 'onset2COWCS'\n",
    "treatment = 'valoilres_binarize'\n",
    "confounders = ['crude1990P_diff',\n",
    "               'wildcat_diff',\n",
    "               'out_regdisaster_diff',\n",
    "               'ecgrowth',\n",
    "               'pop_maddison_diff',\n",
    "               'popdens_diff',\n",
    "               'democracy_diff',\n",
    "               'logmountain',\n",
    "               'ethnic_fractionalization',\n",
    "               'religion_fractionalization',\n",
    "               'language_fractionalization',\n",
    "               'leg_british',\n",
    "               'decade',\n",
    "               'opec']"
   ]
  },
  {
   "cell_type": "code",
   "execution_count": 8,
   "metadata": {},
   "outputs": [],
   "source": [
    "oil_df = oil_df.replace({outcome: .00001}, 0)\n",
    "oil_df = oil_df[[outcome] + confounders + [treatment]]\n",
    "oil_df = oil_df.dropna().reset_index()\n",
    "\n",
    "n = len(oil_df)\n",
    "outcome = oil_df[outcome]\n",
    "outcome = outcome.iloc[:, 0]\n",
    "confounders = oil_df[confounders]\n",
    "treatment = oil_df[treatment]\n",
    "treatment = treatment.replace({0.0: 0, 1.0: 1})\n",
    "outcome = outcome.replace({0.0: 0, 1.0: 1})"
   ]
  },
  {
   "cell_type": "code",
   "execution_count": 9,
   "metadata": {},
   "outputs": [],
   "source": [
    "confounders = confounders.iloc[:, [0,1,2,3,5,6,7,8,10,12,14,16,18,20]]"
   ]
  },
  {
   "cell_type": "code",
   "execution_count": 10,
   "metadata": {},
   "outputs": [],
   "source": [
    "g = treatment_k_fold_fit_and_predict(make_xgboost_g_model, X=confounders, A=treatment, n_splits=10)"
   ]
  },
  {
   "cell_type": "code",
   "execution_count": 11,
   "metadata": {},
   "outputs": [],
   "source": [
    "Q0,Q1=outcome_k_fold_fit_and_predict(make_xgboost_Q_model, X=confounders, y=outcome, A=treatment, n_splits=10, output_type=\"binary\")"
   ]
  },
  {
   "cell_type": "code",
   "execution_count": 12,
   "metadata": {},
   "outputs": [],
   "source": [
    "data_and_nuisance_estimates = pd.DataFrame({'g': g, 'Q0': Q0, 'Q1': Q1, 'A': treatment, 'Y': outcome})"
   ]
  },
  {
   "cell_type": "code",
   "execution_count": 13,
   "metadata": {},
   "outputs": [
    {
     "name": "stdout",
     "output_type": "stream",
     "text": [
      "Dropped 1614 observations due to overlap condition\n"
     ]
    }
   ],
   "source": [
    "data_and_nuisance_estimates = data_and_nuisance_estimates[data_and_nuisance_estimates['g'] > .01]\n",
    "data_and_nuisance_estimates = data_and_nuisance_estimates[data_and_nuisance_estimates['g'] < .99]\n",
    "print('Dropped {} observations due to overlap condition'.format(len(oil_df) - len(data_and_nuisance_estimates)))"
   ]
  },
  {
   "cell_type": "code",
   "execution_count": 14,
   "metadata": {},
   "outputs": [],
   "source": [
    "tau_hat, std_hat = att_aiptw(**data_and_nuisance_estimates)"
   ]
  },
  {
   "cell_type": "code",
   "execution_count": 15,
   "metadata": {},
   "outputs": [
    {
     "data": {
      "text/plain": [
       "-0.019272429969017086"
      ]
     },
     "execution_count": 15,
     "metadata": {},
     "output_type": "execute_result"
    }
   ],
   "source": [
    "tau_hat"
   ]
  },
  {
   "cell_type": "code",
   "execution_count": 16,
   "metadata": {},
   "outputs": [
    {
     "data": {
      "text/plain": [
       "0.02718039142799098"
      ]
     },
     "execution_count": 16,
     "metadata": {},
     "output_type": "execute_result"
    }
   ],
   "source": [
    "std_hat"
   ]
  },
  {
   "cell_type": "code",
   "execution_count": 17,
   "metadata": {},
   "outputs": [],
   "source": [
    "target_bias = 0.02"
   ]
  },
  {
   "cell_type": "code",
   "execution_count": 18,
   "metadata": {},
   "outputs": [],
   "source": [
    "covariate_groups = {\n",
    "    'country': ['out_regdisaster_diff',\n",
    "               'ecgrowth',\n",
    "               'pop_maddison_diff',\n",
    "               'popdens_diff',\n",
    "               'democracy_diff',\n",
    "               'logmountain',\n",
    "               'ethnic_fractionalization',\n",
    "               'religion_fractionalization',\n",
    "               'language_fractionalization',\n",
    "               'leg_british'\n",
    "               ],\n",
    "    'oilprice': ['crude1990P_diff'],\n",
    "    'oildiscovery': ['wildcat_diff'],\n",
    "    'opec': ['opec']}\n"
   ]
  },
  {
   "cell_type": "code",
   "execution_count": 19,
   "metadata": {},
   "outputs": [],
   "source": [
    "# For each covariate group, refit the models without using that group\n",
    "nuisance_estimates = {}\n",
    "for group, covs in covariate_groups.items():\n",
    "  remaining_confounders = confounders.drop(columns=covs)\n",
    "\n",
    "  g = treatment_k_fold_fit_and_predict(make_xgboost_g_model, X=remaining_confounders, A=treatment, n_splits=5)\n",
    "  Q0, Q1 = outcome_k_fold_fit_and_predict(make_xgboost_Q_model, X=remaining_confounders, y=outcome, A=treatment, n_splits=5, output_type=\"binary\")\n",
    "\n",
    "  data_and_nuisance_estimates = pd.DataFrame({'g': g, 'Q0': Q0, 'Q1': Q1, 'A': treatment, 'Y': outcome})\n",
    "  nuisance_estimates[group] = data_and_nuisance_estimates"
   ]
  },
  {
   "cell_type": "code",
   "execution_count": 20,
   "metadata": {},
   "outputs": [],
   "source": [
    "data_and_nuisance_path = 'data_and_nuisance_estimates.csv'\n",
    "covariate_dir_path = 'covariates/'"
   ]
  },
  {
   "cell_type": "code",
   "execution_count": 21,
   "metadata": {},
   "outputs": [],
   "source": [
    "def _convert_to_austen_format(nuisance_estimate_df: pd.DataFrame):\n",
    "  austen_df = pd.DataFrame()\n",
    "  austen_df['y']=nuisance_estimate_df['Y']\n",
    "  austen_df['t']=nuisance_estimate_df['A']\n",
    "  austen_df['g']=nuisance_estimate_df['g']\n",
    "  A = nuisance_estimate_df['A']\n",
    "  austen_df['Q']=A*nuisance_estimate_df['Q1'] + (1-A)*nuisance_estimate_df['Q0'] # use Q1 when A=1, and Q0 when A=0\n",
    "\n",
    "  return austen_df"
   ]
  },
  {
   "cell_type": "code",
   "execution_count": 22,
   "metadata": {},
   "outputs": [],
   "source": [
    "austen_data_and_nuisance = _convert_to_austen_format(data_and_nuisance_estimates)\n",
    "austen_data_and_nuisance.to_csv(data_and_nuisance_path, index=False)\n",
    "\n",
    "pathlib.Path(covariate_dir_path).mkdir(exist_ok=True)\n",
    "for group, nuisance_estimate in nuisance_estimates.items():\n",
    "  austen_nuisance_estimate = _convert_to_austen_format(nuisance_estimate)\n",
    "  austen_nuisance_estimate.to_csv(os.path.join(covariate_dir_path,group+\".csv\"), index=False)"
   ]
  },
  {
   "cell_type": "code",
   "execution_count": 23,
   "metadata": {},
   "outputs": [],
   "source": [
    "ap = AustenPlot(data_and_nuisance_path, covariate_dir_path)"
   ]
  },
  {
   "cell_type": "code",
   "execution_count": 24,
   "metadata": {},
   "outputs": [
    {
     "name": "stdout",
     "output_type": "stream",
     "text": [
      "Fitting main dataset\n"
     ]
    }
   ],
   "source": [
    "p, plot_coords, variable_coords = ap.fit(bias=target_bias)"
   ]
  },
  {
   "cell_type": "code",
   "execution_count": 25,
   "metadata": {},
   "outputs": [
    {
     "data": {
      "image/png": "[encoded data removed]",
      "text/plain": [
       "<Figure size 432x288 with 1 Axes>"
      ]
     },
     "metadata": {},
     "output_type": "display_data"
    },
    {
     "data": {
      "text/plain": [
       "<ggplot: (-9223371879778275976)>"
      ]
     },
     "execution_count": 25,
     "metadata": {},
     "output_type": "execute_result"
    }
   ],
   "source": [
    "p"
   ]
  }
 ],
 "metadata": {
  "kernelspec": {
   "display_name": "Python 3",
   "language": "python",
   "name": "python3"
  },
  "language_info": {
   "codemirror_mode": {
    "name": "ipython",
    "version": 3
   },
   "file_extension": ".py",
   "mimetype": "text/x-python",
   "name": "python",
   "nbconvert_exporter": "python",
   "pygments_lexer": "ipython3",
   "version": "3.7.9"
  },
  "orig_nbformat": 4,
  "vscode": {
   "interpreter": {
    "hash": "a68aa9a883e5778365f31e419e68723b43a90f1d0898585a5935aadf8a371bf2"
   }
  }
 },
 "nbformat": 4,
 "nbformat_minor": 2
}
